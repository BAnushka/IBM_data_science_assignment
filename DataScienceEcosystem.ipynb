{
 "cells": [
  {
   "cell_type": "markdown",
   "metadata": {},
   "source": [
    "<center>\n",
    "    <img src=\"https://cf-courses-data.s3.us.cloud-object-storage.appdomain.cloud/IBMDeveloperSkillsNetwork-DS0105EN-SkillsNetwork/labs/Module2/images/SN_web_lightmode.png\" width=\"300\" alt=\"cognitiveclass.ai logo\">\n",
    "</center>\n"
   ]
  },
  {
   "cell_type": "markdown",
   "metadata": {},
   "source": [
    "# Data Science Tools and Ecosystem"
   ]
  },
  {
   "cell_type": "markdown",
   "metadata": {},
   "source": [
    "# Introduction\n",
    "In this notebook, Data Science Tools and Ecosystem are summarized."
   ]
  },
  {
   "cell_type": "markdown",
   "metadata": {},
   "source": [
    "Some of the popular languages that Data Scientists use are:\n",
    "\n",
    "Python\n",
    "\n",
    "R\n",
    "\n",
    "SQL\n",
    "\n",
    "Scala\n",
    "\n",
    "Java\n",
    "\n",
    "C++\n",
    "\n",
    "Julia\n",
    "\n",
    "JavaScript\n",
    "\n",
    "PHP\n",
    "\n",
    "Go\n",
    "\n",
    "Ruby\n",
    "\n",
    "Visual Basic\n"
   ]
  },
  {
   "cell_type": "markdown",
   "metadata": {},
   "source": [
    "Some of the commonly used libraries used by Data Scientists include:\n",
    "\n",
    "Pandas\n",
    "\n",
    "Numpy\n",
    "\n",
    "Matplotlib\n",
    "\n",
    "Seaborn\n",
    "\n",
    "Scikit-learn\n",
    "\n",
    "Keras\n",
    "\n",
    "TensorFlow\n",
    "\n",
    "PyTorch\n",
    "\n",
    "Apache Spark\n",
    "\n",
    "Vegas\n",
    "\n",
    "Big DL\n",
    "\n",
    "Ggplot2\n"
   ]
  },
  {
   "cell_type": "markdown",
   "metadata": {},
   "source": [
    "# Data Science Tools\n",
    "\n",
    "| Data Science Tools         |\n",
    "|----------------------------|\n",
    "| Jupyter Notebooks           |\n",
    "| RStudio                     |\n",
    "| Apache Zeppelin             |\n"
   ]
  },
  {
   "cell_type": "markdown",
   "metadata": {},
   "source": [
    "### Below are a few examples of evaluating arithmetic expressions in Python.\n",
    "\n",
    "1. Addition: `3 + 5` evaluates to `8`\n",
    "2. Subtraction: `10 - 4` evaluates to `6`\n",
    "3. Multiplication: `7 * 2` evaluates to `14`\n",
    "4. Division: `16 / 4` evaluates to `4.0`\n",
    "5. Exponentiation: `2 ** 3` evaluates to `8`\n",
    "6. Modulus: `10 % 3` evaluates to `1`"
   ]
  },
  {
   "cell_type": "markdown",
   "metadata": {},
   "source": [
    "# This is a simple arithmetic expression to multiply then add integers\n",
    "(3 * 4) + 5\n"
   ]
  },
  {
   "cell_type": "markdown",
   "metadata": {},
   "source": [
    "# This will convert 200 minutes to hours by dividing by 60\n",
    "200 / 60\n"
   ]
  },
  {
   "cell_type": "markdown",
   "metadata": {},
   "source": [
    "**Objectives:**\n",
    "\n",
    "- List popular languages for Data Science\n",
    "- List popular libraries used in Data Science\n",
    "- Describe open-source tools used for Data Science\n",
    "- Provide examples of arithmetic expressions in Python\n",
    "- Convert minutes into hours\n"
   ]
  },
  {
   "cell_type": "markdown",
   "metadata": {},
   "source": [
    "## Author\n",
    "\n",
    "Anushka Bhokare\n"
   ]
  },
  {
   "cell_type": "code",
   "execution_count": null,
   "metadata": {},
   "outputs": [],
   "source": []
  }
 ],
 "metadata": {
  "kernelspec": {
   "display_name": "Python 3 (ipykernel)",
   "language": "python",
   "name": "python3"
  },
  "language_info": {
   "codemirror_mode": {
    "name": "ipython",
    "version": 3
   },
   "file_extension": ".py",
   "mimetype": "text/x-python",
   "name": "python",
   "nbconvert_exporter": "python",
   "pygments_lexer": "ipython3",
   "version": "3.11.9"
  }
 },
 "nbformat": 4,
 "nbformat_minor": 4
}
